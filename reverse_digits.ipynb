{
  "nbformat": 4,
  "nbformat_minor": 0,
  "metadata": {
    "colab": {
      "provenance": [],
      "gpuType": "T4"
    },
    "kernelspec": {
      "name": "python3",
      "display_name": "Python 3"
    },
    "language_info": {
      "name": "python"
    },
    "accelerator": "GPU"
  },
  "cells": [
    {
      "cell_type": "markdown",
      "source": [
        "## Imports\n"
      ],
      "metadata": {
        "id": "38AMlA14CqCb"
      }
    },
    {
      "cell_type": "code",
      "execution_count": 1,
      "metadata": {
        "id": "V69UBwxKB_gj"
      },
      "outputs": [],
      "source": [
        "import jax\n",
        "import optax\n",
        "import flax.linen as nn\n",
        "import numpy as np\n",
        "import jax.numpy as jnp\n",
        "import matplotlib.pyplot as plt\n",
        "from flax.training import train_state"
      ]
    },
    {
      "cell_type": "markdown",
      "source": [
        "## Transformer Block"
      ],
      "metadata": {
        "id": "hmmr0bjbEKML"
      }
    },
    {
      "cell_type": "code",
      "source": [
        "class TransformerBlock(nn.Module):\n",
        "  d_model: int\n",
        "  heads: int\n",
        "  diff: int\n",
        "  dropout_rate: float = 0.1\n",
        "\n",
        "  @nn.compact\n",
        "  def __call__(self, x, training = False):\n",
        "    attn_out = nn.MultiHeadDotProductAttention(\n",
        "        num_heads = self.heads,\n",
        "        dtype = jnp.float32\n",
        "    )(x, x)\n",
        "    attn_out = nn.LayerNorm()(x + attn_out)\n",
        "\n",
        "    ff_out = nn.Sequential([\n",
        "        nn.Dense(self.diff, dtype = jnp.float32),\n",
        "        nn.relu,\n",
        "        nn.Dense(self.d_model, dtype = jnp.float32)\n",
        "    ])(attn_out)\n",
        "    return nn.LayerNorm()(ff_out + attn_out)"
      ],
      "metadata": {
        "id": "7TttLijTEMMR"
      },
      "execution_count": 2,
      "outputs": []
    },
    {
      "cell_type": "markdown",
      "source": [
        "## Reversal Transformer"
      ],
      "metadata": {
        "id": "cTr9FZd1FCXC"
      }
    },
    {
      "cell_type": "code",
      "source": [
        "class ReversalTransformer(nn.Module):\n",
        "  d_model: int\n",
        "  heads: int\n",
        "  diff: int\n",
        "  num_layers: int\n",
        "  vocab_size: int\n",
        "  max_len: int\n",
        "\n",
        "  @nn.compact\n",
        "  def __call__(self, x, training = False):\n",
        "    x = nn.Embed(self.vocab_size, self.d_model)(x)\n",
        "    pos = jnp.arange(0, x.shape[1], dtype = jnp.float32)[:, jnp.newaxis]\n",
        "    div_term = jnp.exp(jnp.arange(0, self.d_model, 2) * -(jnp.log(10000) / self.d_model))\n",
        "    pe = jnp.zeros((x.shape[1], self.d_model))\n",
        "    pe = pe.at[:, 0::2].set(jnp.sin(pos * div_term))\n",
        "    pe = pe.at[:, 1::2].set(jnp.cos(pos * div_term))\n",
        "    x += pe[jnp.newaxis, :, :]\n",
        "\n",
        "    for _ in range(self.num_layers):\n",
        "      x = TransformerBlock(\n",
        "          d_model = self.d_model,\n",
        "          heads = self.heads,\n",
        "          diff = self.diff,\n",
        "      )(x, training = training)\n",
        "    return nn.Dense(self.vocab_size)(x)\n"
      ],
      "metadata": {
        "id": "WLMFQDjCFFEu"
      },
      "execution_count": 3,
      "outputs": []
    },
    {
      "cell_type": "markdown",
      "source": [
        "## Training Utilities"
      ],
      "metadata": {
        "id": "BZrAiXX-GGHu"
      }
    },
    {
      "cell_type": "code",
      "source": [
        "def create_train_state(rng, model, input_shape):\n",
        "  @jax.jit\n",
        "  def initialize_model(rng):\n",
        "    return model.init(rng, jnp.ones(input_shape, dtype = jnp.int32))[\"params\"]\n",
        "\n",
        "  params = initialize_model(rng)\n",
        "  tx = optax.adam(learning_rate = 1e-3)\n",
        "  return train_state.TrainState.create(\n",
        "      apply_fn = model.apply,\n",
        "      params = params,\n",
        "      tx = tx\n",
        "  )"
      ],
      "metadata": {
        "id": "8OV0uJAaGH7t"
      },
      "execution_count": 4,
      "outputs": []
    },
    {
      "cell_type": "markdown",
      "source": [
        "## Loss and Update Step"
      ],
      "metadata": {
        "id": "ZsRYgv4kGmjW"
      }
    },
    {
      "cell_type": "code",
      "source": [
        "def cross_entropy_loss(logits, labels):\n",
        "  one_hot_labels = jax.nn.one_hot(labels, logits.shape[-1])\n",
        "  return jnp.mean(-jnp.sum(one_hot_labels * jax.nn.log_softmax(logits), axis = -1))\n",
        "\n",
        "@jax.jit\n",
        "def train_step(state, batch, target):\n",
        "  def loss_fn(params):\n",
        "    logits = state.apply_fn({\"params\": params}, batch, training = True)\n",
        "    loss = cross_entropy_loss(logits, target)\n",
        "    return loss\n",
        "\n",
        "  grad_fn = jax.value_and_grad(loss_fn)\n",
        "  loss, grads = grad_fn(state.params)\n",
        "  return state.apply_gradients(grads = grads), loss\n"
      ],
      "metadata": {
        "id": "K5XFEuFkGq0V"
      },
      "execution_count": 5,
      "outputs": []
    },
    {
      "cell_type": "markdown",
      "source": [
        "## Create Data"
      ],
      "metadata": {
        "id": "ColDvqsTH9k-"
      }
    },
    {
      "cell_type": "code",
      "source": [
        "class DataCurator:\n",
        "\n",
        "  def __init__(self, num_sequences, max_len):\n",
        "    self.num_sequences = num_sequences\n",
        "    self.max_len = max_len\n",
        "    self.text = [\n",
        "        \"I am a boy and you are a girl and this is our city to explore\",\n",
        "        \"My name is Jon and I work at the gorcery store next door\",\n",
        "        \"This is another test to check the learning ability of a language model during training\",\n",
        "        \"The most effective way of checking the learning ability is to reverse the sequence\",\n",
        "        \"I am confident that the model will work well under strenous settings\",\n",
        "        \"Indeed the tiger belongs to the cat family and is a ferocious animal in the wild\",\n",
        "        \"Most of the birds fly in the sky later in the evening when the sun falls down\",\n",
        "        \"I am certain that the model has some learning ability which can be measured using this task\"\n",
        "    ][:self.num_sequences]\n",
        "\n",
        "  def tokenize_sequences(self):\n",
        "    self.words_to_tokens = {}\n",
        "    self.tokenized_text = []\n",
        "    counter = 0\n",
        "    for seq in self.text:\n",
        "      seq = seq.split(\" \")\n",
        "      tokenized_seq = []\n",
        "      for word in seq:\n",
        "        if word not in self.words_to_tokens:\n",
        "          self.words_to_tokens[word] = counter\n",
        "          counter += 1\n",
        "        tokenized_seq.append(self.words_to_tokens[word])\n",
        "      self.tokenized_text.append(tokenized_seq[:self.max_len])\n",
        "    self.tokens_to_words = {v:k for k, v in self.words_to_tokens.items()}\n",
        "    self.vocab_size = len(self.tokens_to_words)\n",
        "    self.tokenized_text = jnp.array(self.tokenized_text, dtype = jnp.int32)\n",
        "    return self.tokenized_text\n",
        "\n",
        "  def generate_targets(self):\n",
        "    self.targets = jnp.flip(self.tokenized_text, axis = -1)\n",
        "    return self.targets\n"
      ],
      "metadata": {
        "id": "2Pm5brJRH-qq"
      },
      "execution_count": 31,
      "outputs": []
    },
    {
      "cell_type": "markdown",
      "source": [
        "## Train and Generate"
      ],
      "metadata": {
        "id": "1Qekqfa1LVes"
      }
    },
    {
      "cell_type": "code",
      "source": [
        "def main():\n",
        "  max_len = 10\n",
        "  num_sequences = 5\n",
        "  d_model = 128\n",
        "  diff = 64\n",
        "  heads = 2\n",
        "  layers = 2\n",
        "  epochs = 500\n",
        "  evals = 1000\n",
        "\n",
        "  dataset = DataCurator(num_sequences, max_len)\n",
        "  batch = dataset.tokenize_sequences()\n",
        "  targets = dataset.generate_targets()\n",
        "\n",
        "  model = ReversalTransformer(\n",
        "      d_model = d_model,\n",
        "      heads = heads,\n",
        "      diff = diff,\n",
        "      num_layers = layers,\n",
        "      vocab_size = dataset.vocab_size,\n",
        "      max_len = max_len\n",
        "  )\n",
        "  rng = jax.random.PRNGKey(42)\n",
        "  rng, init_rng = jax.random.split(rng)\n",
        "  state = create_train_state(\n",
        "      init_rng,\n",
        "      model,\n",
        "      input_shape = (num_sequences, max_len)\n",
        "  )\n",
        "\n",
        "  losses = []\n",
        "  for i in range(epochs):\n",
        "    state, loss = train_step(state, batch, targets)\n",
        "    losses.append(loss)\n",
        "\n",
        "    if i % 10 == 0:\n",
        "      print(f\"Epoch: {i} | Loss: {loss}\")\n",
        "\n",
        "  plt.figure(figsize = (5, 5))\n",
        "  plt.plot([j for j in range(len(losses))], losses)\n",
        "  plt.title(\"Loss Variation\")\n",
        "  plt.xlabel(\"Steps\")\n",
        "  plt.ylabel(\"Training Loss\")\n",
        "  plt.show()\n",
        "\n",
        "  prompt = [\"the\"]\n",
        "  for i in range(max_len - 1):\n",
        "    input = jnp.array([dataset.words_to_tokens[i] for i in prompt])[jnp.newaxis,:]\n",
        "    logits = state.apply_fn({\"params\": state.params}, input)\n",
        "    idx = jnp.argmax(logits, axis = -1)[-1][-1].item()\n",
        "    prompt = prompt + [dataset.tokens_to_words[idx]]\n",
        "  print(prompt)\n",
        "\n",
        "\n",
        "if __name__ == \"__main__\":\n",
        "  main()\n"
      ],
      "metadata": {
        "colab": {
          "base_uri": "https://localhost:8080/",
          "height": 1000
        },
        "id": "3i4IFjc3LWmh",
        "outputId": "a08bed61-949f-4faf-acd9-2d4c2d8e5f4f"
      },
      "execution_count": 33,
      "outputs": [
        {
          "output_type": "stream",
          "name": "stdout",
          "text": [
            "Epoch: 0 | Loss: 4.242325782775879\n",
            "Epoch: 10 | Loss: 3.2694571018218994\n",
            "Epoch: 20 | Loss: 2.273271083831787\n",
            "Epoch: 30 | Loss: 0.985136866569519\n",
            "Epoch: 40 | Loss: 0.2998259365558624\n",
            "Epoch: 50 | Loss: 0.08849935978651047\n",
            "Epoch: 60 | Loss: 0.036019448190927505\n",
            "Epoch: 70 | Loss: 0.02056925557553768\n",
            "Epoch: 80 | Loss: 0.014286713674664497\n",
            "Epoch: 90 | Loss: 0.0111165139824152\n",
            "Epoch: 100 | Loss: 0.00920168124139309\n",
            "Epoch: 110 | Loss: 0.007902028039097786\n",
            "Epoch: 120 | Loss: 0.006934502627700567\n",
            "Epoch: 130 | Loss: 0.006171971559524536\n",
            "Epoch: 140 | Loss: 0.0055457004345953465\n",
            "Epoch: 150 | Loss: 0.005018028896301985\n",
            "Epoch: 160 | Loss: 0.004569504875689745\n",
            "Epoch: 170 | Loss: 0.004183555021882057\n",
            "Epoch: 180 | Loss: 0.0038488039281219244\n",
            "Epoch: 190 | Loss: 0.003555705538019538\n",
            "Epoch: 200 | Loss: 0.0032972844783216715\n",
            "Epoch: 210 | Loss: 0.003068018238991499\n",
            "Epoch: 220 | Loss: 0.00286365719512105\n",
            "Epoch: 230 | Loss: 0.0026800676714628935\n",
            "Epoch: 240 | Loss: 0.0025146317202597857\n",
            "Epoch: 250 | Loss: 0.0023651730734854937\n",
            "Epoch: 260 | Loss: 0.0022295722737908363\n",
            "Epoch: 270 | Loss: 0.0021060688886791468\n",
            "Epoch: 280 | Loss: 0.001993065234273672\n",
            "Epoch: 290 | Loss: 0.001889422768726945\n",
            "Epoch: 300 | Loss: 0.0017940093530341983\n",
            "Epoch: 310 | Loss: 0.0017058707308024168\n",
            "Epoch: 320 | Loss: 0.0016240474069491029\n",
            "Epoch: 330 | Loss: 0.0015480199363082647\n",
            "Epoch: 340 | Loss: 0.001477577956393361\n",
            "Epoch: 350 | Loss: 0.0014121112180873752\n",
            "Epoch: 360 | Loss: 0.001351131941191852\n",
            "Epoch: 370 | Loss: 0.0012942275498062372\n",
            "Epoch: 380 | Loss: 0.001241164980456233\n",
            "Epoch: 390 | Loss: 0.001191566465422511\n",
            "Epoch: 400 | Loss: 0.0011449824087321758\n",
            "Epoch: 410 | Loss: 0.0011013394687324762\n",
            "Epoch: 420 | Loss: 0.001060235546901822\n",
            "Epoch: 430 | Loss: 0.001021356787532568\n",
            "Epoch: 440 | Loss: 0.0009847746696323156\n",
            "Epoch: 450 | Loss: 0.0009502513566985726\n",
            "Epoch: 460 | Loss: 0.0009176084422506392\n",
            "Epoch: 470 | Loss: 0.0008867198484949768\n",
            "Epoch: 480 | Loss: 0.0008574810344725847\n",
            "Epoch: 490 | Loss: 0.0008297492167912424\n"
          ]
        },
        {
          "output_type": "display_data",
          "data": {
            "text/plain": [
              "<Figure size 500x500 with 1 Axes>"
            ],
            "image/png": "[encoded data removed]"
          },
          "metadata": {}
        },
        {
          "output_type": "stream",
          "name": "stdout",
          "text": [
            "['the', 'is', 'This', 'This', 'This', 'This', 'of', 'and', 'My', 'am']\n"
          ]
        }
      ]
    },
    {
      "cell_type": "code",
      "source": [],
      "metadata": {
        "id": "u97LvBsmPuB6"
      },
      "execution_count": null,
      "outputs": []
    }
  ]
}