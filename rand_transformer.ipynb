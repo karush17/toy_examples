{
  "nbformat": 4,
  "nbformat_minor": 0,
  "metadata": {
    "colab": {
      "provenance": [],
      "gpuType": "T4"
    },
    "kernelspec": {
      "name": "python3",
      "display_name": "Python 3"
    },
    "language_info": {
      "name": "python"
    },
    "accelerator": "GPU"
  },
  "cells": [
    {
      "cell_type": "markdown",
      "source": [
        "## Imports"
      ],
      "metadata": {
        "id": "m2qKUDJj9aPi"
      }
    },
    {
      "cell_type": "code",
      "execution_count": 1,
      "metadata": {
        "id": "d7QsCVZZ59xh"
      },
      "outputs": [],
      "source": [
        "import jax\n",
        "import optax\n",
        "import flax.linen as nn\n",
        "import numpy as np\n",
        "import jax.numpy as jnp\n",
        "import matplotlib.pyplot as plt\n",
        "from flax.training import train_state"
      ]
    },
    {
      "cell_type": "markdown",
      "source": [
        "## Transformer Block"
      ],
      "metadata": {
        "id": "CfApN6Ex9sOA"
      }
    },
    {
      "cell_type": "code",
      "source": [
        "class TransformerBlock(nn.Module):\n",
        "  d_model: int\n",
        "  heads: int\n",
        "  diff: int\n",
        "  dropout_rate: float = 0.1\n",
        "\n",
        "  @nn.compact\n",
        "  def __call__(self, x, training = False):\n",
        "    attn_out = nn.MultiHeadDotProductAttention(\n",
        "        num_heads = self.heads,\n",
        "        dtype=jnp.float32\n",
        "    )(x, x)\n",
        "    attn_out = nn.LayerNorm()(x + attn_out)\n",
        "\n",
        "    ff_out = nn.Sequential([\n",
        "        nn.Dense(self.diff, dtype=jnp.float32),\n",
        "        nn.relu,\n",
        "        # nn.Dropout(self.dropout_rate),\n",
        "        nn.Dense(self.d_model, dtype = jnp.float32)\n",
        "    ])(attn_out)\n",
        "    return nn.LayerNorm()(attn_out + ff_out)\n"
      ],
      "metadata": {
        "id": "63bhcFk39uHG"
      },
      "execution_count": 2,
      "outputs": []
    },
    {
      "cell_type": "markdown",
      "source": [
        "## Random Number Transformer"
      ],
      "metadata": {
        "id": "AMd32hsj-3Az"
      }
    },
    {
      "cell_type": "code",
      "source": [
        "class RandomNumberTransformer(nn.Module):\n",
        "  d_model: int\n",
        "  heads: int\n",
        "  diff: int\n",
        "  num_layers: int\n",
        "  vocab_size: int\n",
        "  max_len: int\n",
        "\n",
        "  @nn.compact\n",
        "  def __call__(self, x, training = False):\n",
        "    x = nn.Embed(self.vocab_size, self.d_model)(x)\n",
        "    pos = jnp.arange(0, x.shape[1], dtype = jnp.float32)[:, jnp.newaxis]\n",
        "    div_term = jnp.exp(jnp.arange(0, self.d_model, 2) * -(jnp.log(10000) / self.d_model))\n",
        "    pe = jnp.zeros((x.shape[1], self.d_model))\n",
        "    pe = pe.at[:, 0::2].set(jnp.sin(pos * div_term))\n",
        "    pe = pe.at[:, 1::2].set(jnp.cos(pos * div_term))\n",
        "    x += pe[jnp.newaxis, :, :]\n",
        "\n",
        "    for _ in range(self.num_layers):\n",
        "      x = TransformerBlock(\n",
        "          d_model = self.d_model,\n",
        "          heads = self.heads,\n",
        "          diff = self.diff,\n",
        "          dropout_rate = 0.1\n",
        "      )(x, training = training)\n",
        "    return nn.Dense(self.vocab_size)(x)\n"
      ],
      "metadata": {
        "id": "AGOjundT-5kV"
      },
      "execution_count": 3,
      "outputs": []
    },
    {
      "cell_type": "markdown",
      "source": [
        "## Training Utilities"
      ],
      "metadata": {
        "id": "nTivQWsWCGsv"
      }
    },
    {
      "cell_type": "code",
      "source": [
        "def create_train_state(rng, model, input_shape):\n",
        "  @jax.jit\n",
        "  def initialize_model(rng):\n",
        "    return model.init(rng, jnp.ones(input_shape, dtype=jnp.int32))[\"params\"]\n",
        "\n",
        "  params = initialize_model(rng)\n",
        "  tx = optax.adam(learning_rate = 1e-3)\n",
        "\n",
        "  return train_state.TrainState.create(\n",
        "      apply_fn = model.apply,\n",
        "      params = params,\n",
        "      tx = tx\n",
        "  )"
      ],
      "metadata": {
        "id": "EVv8VYXsCJ4P"
      },
      "execution_count": 4,
      "outputs": []
    },
    {
      "cell_type": "markdown",
      "source": [
        "## Loss and Update Step"
      ],
      "metadata": {
        "id": "6kALVW_mC1pv"
      }
    },
    {
      "cell_type": "code",
      "source": [
        "def cross_entropy_loss(logits, labels):\n",
        "  one_hot_labels = jax.nn.one_hot(labels, logits.shape[-1])\n",
        "  return jnp.mean(-jnp.sum(one_hot_labels * jax.nn.log_softmax(logits), axis=-1))\n",
        "\n",
        "@jax.jit\n",
        "def train_step(state, batch):\n",
        "  def loss_fn(params):\n",
        "    logits = state.apply_fn({\"params\": params}, batch, training = True)\n",
        "    loss = cross_entropy_loss(logits[:, :-1, :], batch[:, 1:])\n",
        "    return loss\n",
        "\n",
        "  grad_fn = jax.value_and_grad(loss_fn)\n",
        "  loss, grads = grad_fn(state.params)\n",
        "  return state.apply_gradients(grads = grads), loss\n",
        "\n",
        "def generate_random_number_sequence(num_sequences, max_len, vocab_size):\n",
        "  return np.random.randint(0, vocab_size, size = (num_sequences, max_len))\n"
      ],
      "metadata": {
        "id": "-pRoltYRC3KH"
      },
      "execution_count": 5,
      "outputs": []
    },
    {
      "cell_type": "markdown",
      "source": [
        "## Train and Generate"
      ],
      "metadata": {
        "id": "gzdwubBnHAgK"
      }
    },
    {
      "cell_type": "code",
      "source": [
        "def main():\n",
        "  vocab_size = 100\n",
        "  max_len = 20\n",
        "  d_model = 128\n",
        "  diff = 64\n",
        "  heads = 4\n",
        "  layers = 2\n",
        "  batch_size = 64\n",
        "  epochs = 500\n",
        "  evals = 1000\n",
        "\n",
        "  model = RandomNumberTransformer(\n",
        "      d_model = d_model,\n",
        "      heads = heads,\n",
        "      diff = diff,\n",
        "      num_layers = layers,\n",
        "      vocab_size = vocab_size,\n",
        "      max_len = max_len\n",
        "  )\n",
        "  rng = jax.random.PRNGKey(42)\n",
        "  rng, init_rng = jax.random.split(rng)\n",
        "  state = create_train_state(\n",
        "      init_rng,\n",
        "      model,\n",
        "      input_shape = (batch_size, max_len)\n",
        "  )\n",
        "\n",
        "  losses = []\n",
        "  for i in range(epochs):\n",
        "    batch = generate_random_number_sequence(batch_size, max_len, vocab_size)\n",
        "    state, loss = train_step(state, batch)\n",
        "    losses.append(loss)\n",
        "\n",
        "    if i % 10 == 0:\n",
        "      print(f\"Epoch: {i} | Loss: {loss}\")\n",
        "\n",
        "  test_input = generate_random_number_sequence(1, max_len, vocab_size)\n",
        "  generated_logits = model.apply({\"params\": state.params}, test_input, training = False)\n",
        "  generated_logits = jax.nn.log_softmax(generated_logits, axis = -1)\n",
        "  generated_sequence = jnp.argmax(generated_logits, axis = -1).reshape(max_len,)\n",
        "  print(f\"Generated Sequence: {generated_sequence}\")\n",
        "\n",
        "  test_input = generate_random_number_sequence(evals, max_len, vocab_size)\n",
        "  generated_logits = model.apply({\"params\": state.params}, test_input, training = False)\n",
        "  generated_logits = jax.nn.log_softmax(generated_logits, axis = -1)\n",
        "  samples = jnp.argmax(generated_logits, axis = -1).reshape(evals * max_len,)\n",
        "  plt.figure(figsize = (5, 5))\n",
        "  plt.hist(samples, vocab_size)\n",
        "  plt.title(\"Learned distribution\")\n",
        "  plt.xlabel(\"Vocab Tokens\")\n",
        "  plt.ylabel(\"Frequency\")\n",
        "  plt.show()\n",
        "\n",
        "\n",
        "if __name__ == \"__main__\":\n",
        "  main()"
      ],
      "metadata": {
        "colab": {
          "base_uri": "https://localhost:8080/",
          "height": 1000
        },
        "id": "mJDZASwNHFHz",
        "outputId": "c7310149-ab7f-4275-e148-93f69902a00d"
      },
      "execution_count": 6,
      "outputs": [
        {
          "output_type": "stream",
          "name": "stdout",
          "text": [
            "Epoch: 0 | Loss: 5.085633754730225\n",
            "Epoch: 10 | Loss: 4.626141548156738\n",
            "Epoch: 20 | Loss: 4.620388031005859\n",
            "Epoch: 30 | Loss: 4.620377540588379\n",
            "Epoch: 40 | Loss: 4.627483367919922\n",
            "Epoch: 50 | Loss: 4.619194507598877\n",
            "Epoch: 60 | Loss: 4.611101150512695\n",
            "Epoch: 70 | Loss: 4.612168312072754\n",
            "Epoch: 80 | Loss: 4.612643718719482\n",
            "Epoch: 90 | Loss: 4.615538120269775\n",
            "Epoch: 100 | Loss: 4.6171698570251465\n",
            "Epoch: 110 | Loss: 4.613712310791016\n",
            "Epoch: 120 | Loss: 4.613996505737305\n",
            "Epoch: 130 | Loss: 4.611415863037109\n",
            "Epoch: 140 | Loss: 4.612955093383789\n",
            "Epoch: 150 | Loss: 4.605838298797607\n",
            "Epoch: 160 | Loss: 4.599010944366455\n",
            "Epoch: 170 | Loss: 4.58359956741333\n",
            "Epoch: 180 | Loss: 4.512578964233398\n",
            "Epoch: 190 | Loss: 3.957078695297241\n",
            "Epoch: 200 | Loss: 2.898749828338623\n",
            "Epoch: 210 | Loss: 1.1666467189788818\n",
            "Epoch: 220 | Loss: 0.24540090560913086\n",
            "Epoch: 230 | Loss: 0.0777369886636734\n",
            "Epoch: 240 | Loss: 0.03774934634566307\n",
            "Epoch: 250 | Loss: 0.02413197048008442\n",
            "Epoch: 260 | Loss: 0.018738044425845146\n",
            "Epoch: 270 | Loss: 0.015617367811501026\n",
            "Epoch: 280 | Loss: 0.013755801133811474\n",
            "Epoch: 290 | Loss: 0.01195826567709446\n",
            "Epoch: 300 | Loss: 0.010911461897194386\n",
            "Epoch: 310 | Loss: 0.009935704059898853\n",
            "Epoch: 320 | Loss: 0.009161052294075489\n",
            "Epoch: 330 | Loss: 0.008676680736243725\n",
            "Epoch: 340 | Loss: 0.0078019737266004086\n",
            "Epoch: 350 | Loss: 0.007361339870840311\n",
            "Epoch: 360 | Loss: 0.00705126253888011\n",
            "Epoch: 370 | Loss: 0.006604374386370182\n",
            "Epoch: 380 | Loss: 0.0060897087678313255\n",
            "Epoch: 390 | Loss: 0.005788811482489109\n",
            "Epoch: 400 | Loss: 0.005525047890841961\n",
            "Epoch: 410 | Loss: 0.005221792031079531\n",
            "Epoch: 420 | Loss: 0.004894061479717493\n",
            "Epoch: 430 | Loss: 0.004588589072227478\n",
            "Epoch: 440 | Loss: 0.004584525711834431\n",
            "Epoch: 450 | Loss: 0.004183033015578985\n",
            "Epoch: 460 | Loss: 0.004138485062867403\n",
            "Epoch: 470 | Loss: 0.004051043651998043\n",
            "Epoch: 480 | Loss: 0.003751133568584919\n",
            "Epoch: 490 | Loss: 0.0035526591818779707\n",
            "Generated Sequence: [ 2 64 11 34 15 55  9  2 80 13 69 25 57 12 22 45  1 27 98 98]\n"
          ]
        },
        {
          "output_type": "display_data",
          "data": {
            "text/plain": [
              "<Figure size 500x500 with 1 Axes>"
            ],
            "image/png": "[encoded data removed]"
          },
          "metadata": {}
        }
      ]
    },
    {
      "cell_type": "code",
      "source": [],
      "metadata": {
        "id": "j0GGA4fqMXUS"
      },
      "execution_count": null,
      "outputs": []
    }
  ]
}