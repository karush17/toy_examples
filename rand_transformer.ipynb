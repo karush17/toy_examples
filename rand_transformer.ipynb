{
  "cells": [
    {
      "cell_type": "markdown",
      "metadata": {
        "id": "m2qKUDJj9aPi"
      },
      "source": [
        "## Imports"
      ]
    },
    {
      "cell_type": "code",
      "execution_count": null,
      "metadata": {
        "id": "d7QsCVZZ59xh"
      },
      "outputs": [],
      "source": [
        "import jax\n",
        "import optax\n",
        "import flax.linen as nn\n",
        "import numpy as np\n",
        "import jax.numpy as jnp\n",
        "import matplotlib.pyplot as plt\n",
        "from flax.training import train_state"
      ]
    },
    {
      "cell_type": "markdown",
      "metadata": {
        "id": "CfApN6Ex9sOA"
      },
      "source": [
        "## Transformer Block"
      ]
    },
    {
      "cell_type": "code",
      "execution_count": null,
      "metadata": {
        "id": "63bhcFk39uHG"
      },
      "outputs": [],
      "source": [
        "class TransformerBlock(nn.Module):\n",
        "  d_model: int\n",
        "  heads: int\n",
        "  diff: int\n",
        "  dropout_rate: float = 0.1\n",
        "\n",
        "  @nn.compact\n",
        "  def __call__(self, x, training = False):\n",
        "    attn_out = nn.MultiHeadDotProductAttention(\n",
        "        num_heads = self.heads,\n",
        "        dtype=jnp.float32\n",
        "    )(x, x)\n",
        "    attn_out = nn.LayerNorm()(x + attn_out)\n",
        "\n",
        "    ff_out = nn.Sequential([\n",
        "        nn.Dense(self.diff, dtype=jnp.float32),\n",
        "        nn.relu,\n",
        "        # nn.Dropout(self.dropout_rate),\n",
        "        nn.Dense(self.d_model, dtype = jnp.float32)\n",
        "    ])(attn_out)\n",
        "    return nn.LayerNorm()(attn_out + ff_out)\n"
      ]
    },
    {
      "cell_type": "markdown",
      "metadata": {
        "id": "AMd32hsj-3Az"
      },
      "source": [
        "## Random Number Transformer"
      ]
    },
    {
      "cell_type": "code",
      "execution_count": null,
      "metadata": {
        "id": "AGOjundT-5kV"
      },
      "outputs": [],
      "source": [
        "class RandomNumberTransformer(nn.Module):\n",
        "  d_model: int\n",
        "  heads: int\n",
        "  diff: int\n",
        "  num_layers: int\n",
        "  vocab_size: int\n",
        "  max_len: int\n",
        "\n",
        "  @nn.compact\n",
        "  def __call__(self, x, training = False):\n",
        "    x = nn.Embed(self.vocab_size, self.d_model)(x)\n",
        "    pos = jnp.arange(0, x.shape[1], dtype = jnp.float32)[:, jnp.newaxis]\n",
        "    div_term = jnp.exp(jnp.arange(0, self.d_model, 2) * -(jnp.log(10000) / self.d_model))\n",
        "    pe = jnp.zeros((x.shape[1], self.d_model))\n",
        "    pe = pe.at[:, 0::2].set(jnp.sin(pos * div_term))\n",
        "    pe = pe.at[:, 1::2].set(jnp.cos(pos * div_term))\n",
        "    x += pe[jnp.newaxis, :, :]\n",
        "\n",
        "    for _ in range(self.num_layers):\n",
        "      x = TransformerBlock(\n",
        "          d_model = self.d_model,\n",
        "          heads = self.heads,\n",
        "          diff = self.diff,\n",
        "          dropout_rate = 0.1\n",
        "      )(x, training = training)\n",
        "    return nn.Dense(self.vocab_size)(x)\n"
      ]
    },
    {
      "cell_type": "markdown",
      "metadata": {
        "id": "nTivQWsWCGsv"
      },
      "source": [
        "## Training Utilities"
      ]
    },
    {
      "cell_type": "code",
      "execution_count": null,
      "metadata": {
        "id": "EVv8VYXsCJ4P"
      },
      "outputs": [],
      "source": [
        "def create_train_state(rng, model, input_shape):\n",
        "  @jax.jit\n",
        "  def initialize_model(rng):\n",
        "    return model.init(rng, jnp.ones(input_shape, dtype=jnp.int32))[\"params\"]\n",
        "\n",
        "  params = initialize_model(rng)\n",
        "  tx = optax.adam(learning_rate = 1e-3)\n",
        "\n",
        "  return train_state.TrainState.create(\n",
        "      apply_fn = model.apply,\n",
        "      params = params,\n",
        "      tx = tx\n",
        "  )"
      ]
    },
    {
      "cell_type": "markdown",
      "metadata": {
        "id": "6kALVW_mC1pv"
      },
      "source": [
        "## Loss and Update Step"
      ]
    },
    {
      "cell_type": "code",
      "execution_count": null,
      "metadata": {
        "id": "-pRoltYRC3KH"
      },
      "outputs": [],
      "source": [
        "def cross_entropy_loss(logits, labels):\n",
        "  one_hot_labels = jax.nn.one_hot(labels, logits.shape[-1])\n",
        "  return jnp.mean(-jnp.sum(one_hot_labels * jax.nn.log_softmax(logits), axis=-1))\n",
        "\n",
        "@jax.jit\n",
        "def train_step(state, batch):\n",
        "  def loss_fn(params):\n",
        "    logits = state.apply_fn({\"params\": params}, batch, training = True)\n",
        "    loss = cross_entropy_loss(logits[:, :-1, :], batch[:, 1:])\n",
        "    return loss\n",
        "\n",
        "  grad_fn = jax.value_and_grad(loss_fn)\n",
        "  loss, grads = grad_fn(state.params)\n",
        "  return state.apply_gradients(grads = grads), loss\n",
        "\n",
        "def generate_random_number_sequence(num_sequences, max_len, vocab_size):\n",
        "  return np.random.randint(0, vocab_size, size = (num_sequences, max_len))\n"
      ]
    },
    {
      "cell_type": "markdown",
      "metadata": {
        "id": "gzdwubBnHAgK"
      },
      "source": [
        "## Train and Generate"
      ]
    },
    {
      "cell_type": "code",
      "execution_count": null,
      "metadata": {
        "colab": {
          "base_uri": "https://localhost:8080/",
          "height": 683
        },
        "id": "mJDZASwNHFHz",
        "outputId": "1d2b5930-0d18-4519-c1a6-61039000be3a"
      },
      "outputs": [
        {
          "name": "stdout",
          "output_type": "stream",
          "text": [
            "Epoch: 0 | Loss: 5.025669574737549\n",
            "Epoch: 10 | Loss: 4.6322550773620605\n",
            "Epoch: 20 | Loss: 4.613387584686279\n",
            "Epoch: 30 | Loss: 4.617225646972656\n",
            "Epoch: 40 | Loss: 4.617715358734131\n",
            "Epoch: 50 | Loss: 4.617679119110107\n",
            "Epoch: 60 | Loss: 4.617799758911133\n",
            "Epoch: 70 | Loss: 4.618274688720703\n",
            "Epoch: 80 | Loss: 4.607429027557373\n",
            "Epoch: 90 | Loss: 4.617630481719971\n",
            "Generated Sequence: [27 27 27 27 27 27 47 27 27 27 27 27 27 27 27 27 76 27 27 27]\n"
          ]
        },
        {
          "data": {
            "image/png": "[encoded data removed]",
            "text/plain": [
              "<Figure size 500x500 with 1 Axes>"
            ]
          },
          "metadata": {},
          "output_type": "display_data"
        }
      ],
      "source": [
        "def main():\n",
        "  vocab_size = 100\n",
        "  max_len = 20\n",
        "  d_model = 128\n",
        "  diff = 64\n",
        "  heads = 4\n",
        "  layers = 2\n",
        "  batch_size = 64\n",
        "  epochs = 100\n",
        "  evals = 1000\n",
        "\n",
        "  model = RandomNumberTransformer(\n",
        "      d_model = d_model,\n",
        "      heads = heads,\n",
        "      diff = diff,\n",
        "      num_layers = layers,\n",
        "      vocab_size = vocab_size,\n",
        "      max_len = max_len\n",
        "  )\n",
        "  rng = jax.random.PRNGKey(42)\n",
        "  rng, init_rng = jax.random.split(rng)\n",
        "  state = create_train_state(\n",
        "      init_rng,\n",
        "      model,\n",
        "      input_shape = (batch_size, max_len)\n",
        "  )\n",
        "\n",
        "  losses = []\n",
        "  for i in range(epochs):\n",
        "    batch = generate_random_number_sequence(batch_size, max_len, vocab_size)\n",
        "    state, loss = train_step(state, batch)\n",
        "    losses.append(loss)\n",
        "\n",
        "    if i % 10 == 0:\n",
        "      print(f\"Epoch: {i} | Loss: {loss}\")\n",
        "\n",
        "  test_input = generate_random_number_sequence(1, max_len, vocab_size)\n",
        "  generated_logits = model.apply({\"params\": state.params}, test_input, training = False)\n",
        "  generated_logits = jax.nn.log_softmax(generated_logits, axis = -1)\n",
        "  generated_sequence = jnp.argmax(generated_logits, axis = -1).reshape(max_len,)\n",
        "  print(f\"Generated Sequence: {generated_sequence}\")\n",
        "\n",
        "  test_input = generate_random_number_sequence(evals, max_len, vocab_size)\n",
        "  generated_logits = model.apply({\"params\": state.params}, test_input, training = False)\n",
        "  generated_logits = jax.nn.log_softmax(generated_logits, axis = -1)\n",
        "  samples = jnp.argmax(generated_logits, axis = -1).reshape(evals * max_len,)\n",
        "  plt.figure(figsize = (5, 5))\n",
        "  plt.hist(samples, vocab_size)\n",
        "  plt.title(\"Learned distribution\")\n",
        "  plt.xlabel(\"Vocab Tokens\")\n",
        "  plt.ylabel(\"Frequency\")\n",
        "  plt.show()\n",
        "\n",
        "\n",
        "if __name__ == \"__main__\":\n",
        "  main()"
      ]
    },
    {
      "cell_type": "code",
      "execution_count": null,
      "metadata": {
        "id": "j0GGA4fqMXUS"
      },
      "outputs": [],
      "source": []
    }
  ],
  "metadata": {
    "accelerator": "GPU",
    "colab": {
      "gpuType": "T4",
      "provenance": []
    },
    "kernelspec": {
      "display_name": "Python 3",
      "name": "python3"
    },
    "language_info": {
      "name": "python"
    }
  },
  "nbformat": 4,
  "nbformat_minor": 0
}
